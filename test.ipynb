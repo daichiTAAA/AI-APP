{
 "cells": [
  {
   "cell_type": "code",
   "execution_count": 7,
   "metadata": {},
   "outputs": [
    {
     "name": "stdout",
     "output_type": "stream",
     "text": [
      "Prompt: Please explain the process of photosynthesis.\n",
      "Answer: Photosynthesis is the process by which plants\n"
     ]
    }
   ],
   "source": [
    "import os\n",
    "import openai\n",
    "import logging\n",
    "\n",
    "# ログ設定\n",
    "logging.basicConfig(\n",
    "    filename=\"app.log\", \n",
    "    filemode=\"a\", \n",
    "    format=\"%(asctime)s - %(levelname)s - %(message)s\", \n",
    "    level=logging.INFO)\n",
    "\n",
    "# 環境変数からAPIキーを取得\n",
    "api_key = os.environ.get(\"OPENAI_API_KEY\")\n",
    "if not api_key:\n",
    "    raise ValueError(\"OPENAI_API_KEY not found in environment variables\")\n",
    "\n",
    "# OpenAI APIクライアントの設定\n",
    "openai.api_key = api_key\n",
    "\n",
    "# プロンプトを指定\n",
    "prompt = \"Please explain the process of photosynthesis.\"\n",
    "\n",
    "# APIリクエストの設定\n",
    "response = openai.Completion.create(\n",
    "    engine=\"babbage\",\n",
    "    prompt=prompt,\n",
    "    max_tokens=10,\n",
    "    n=1,\n",
    "    stop=None,\n",
    "    temperature=0.5,\n",
    ")\n",
    "\n",
    "# 返答の取得\n",
    "answer = response.choices[0].text.strip()\n",
    "\n",
    "# 返答のログ記録\n",
    "logging.info(f\"Prompt: {prompt}\")\n",
    "logging.info(f\"Answer: {answer}\")\n",
    "\n",
    "print(\"Prompt:\", prompt)\n",
    "print(\"Answer:\", answer)\n"
   ]
  },
  {
   "cell_type": "code",
   "execution_count": null,
   "metadata": {},
   "outputs": [],
   "source": []
  }
 ],
 "metadata": {
  "kernelspec": {
   "display_name": "myenvpipai",
   "language": "python",
   "name": "python3"
  },
  "language_info": {
   "codemirror_mode": {
    "name": "ipython",
    "version": 3
   },
   "file_extension": ".py",
   "mimetype": "text/x-python",
   "name": "python",
   "nbconvert_exporter": "python",
   "pygments_lexer": "ipython3",
   "version": "3.11.2"
  },
  "orig_nbformat": 4,
  "vscode": {
   "interpreter": {
    "hash": "3b1ff34228fb62351b47e0b17c8e8812a6ab7a061a28bf50ecce2713e3d35473"
   }
  }
 },
 "nbformat": 4,
 "nbformat_minor": 2
}
